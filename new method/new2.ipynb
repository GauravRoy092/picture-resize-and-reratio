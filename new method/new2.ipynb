{
 "cells": [
  {
   "cell_type": "code",
   "execution_count": null,
   "id": "8695cc60",
   "metadata": {},
   "outputs": [],
   "source": [
    "# %%\n",
    "from PIL import Image\n",
    "import os\n",
    "\n",
    "# 💡 Just change this folder name to whatever your input folder is called\n",
    "input_folder = \"Dishayein\"   # 👈 Change this to your actual folder name\n",
    "output_folder = \"result\"\n",
    "\n",
    "# Create output folder if it doesn't exist\n",
    "os.makedirs(output_folder, exist_ok=True)\n",
    "\n",
    "# Set target aspect ratio (5:4) and final output size (600x480)\n",
    "target_ratio = 5 / 4\n",
    "final_size = (600, 480)\n",
    "\n",
    "# Process each image\n",
    "for filename in os.listdir(input_folder):\n",
    "    if filename.lower().endswith((\".jpg\", \".jpeg\", \".png\", \".bmp\", \".webp\")):\n",
    "        img_path = os.path.join(input_folder, filename)\n",
    "\n",
    "        try:\n",
    "            img = Image.open(img_path)\n",
    "        except Exception as e:\n",
    "            print(f\"❌ Failed to open {filename}: {e}\")\n",
    "            continue\n",
    "\n",
    "        width, height = img.size\n",
    "        current_ratio = width / height\n",
    "\n",
    "        # Center crop to 5:4\n",
    "        if current_ratio > target_ratio:\n",
    "            # Image is too wide\n",
    "            new_width = int(height * target_ratio)\n",
    "            left = (width - new_width) // 2\n",
    "            box = (left, 0, left + new_width, height)\n",
    "        else:\n",
    "            # Image is too tall\n",
    "            new_height = int(width / target_ratio)\n",
    "            top = (height - new_height) // 2\n",
    "            box = (0, top, width, top + new_height)\n",
    "\n",
    "        cropped_img = img.crop(box)\n",
    "\n",
    "        # Resize to final dimensions\n",
    "        resized_img = cropped_img.resize(final_size, Image.Resampling.LANCZOS)\n",
    "\n",
    "        # Save the result\n",
    "        output_path = os.path.join(output_folder, filename)\n",
    "        resized_img.save(output_path)\n",
    "\n",
    "        print(f\"✔️ Processed: {filename}\")\n",
    "\n",
    "print(\"✅ All images processed and saved to:\", output_folder)\n"
   ]
  }
 ],
 "metadata": {
  "kernelspec": {
   "display_name": "myenv",
   "language": "python",
   "name": "python3"
  },
  "language_info": {
   "name": "python",
   "version": "3.11.13"
  }
 },
 "nbformat": 4,
 "nbformat_minor": 5
}
