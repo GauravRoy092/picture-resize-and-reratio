{
 "cells": [
  {
   "cell_type": "code",
   "execution_count": 5,
   "id": "2bbdcabf",
   "metadata": {},
   "outputs": [
    {
     "name": "stdout",
     "output_type": "stream",
     "text": [
      "✔️ Processed: Aloo Paratha.jpeg\n",
      "✔️ Processed: Butter Milk.jpeg\n",
      "✔️ Processed: Butter Roti with Dal Tadka and Paneer Makhanwala.jpeg\n",
      "✔️ Processed: Butter Roti with Dal Tadka.jpeg\n",
      "✔️ Processed: Butter Roti with Paneer Makhanwala.jpeg\n",
      "✔️ Processed: Cheese Pav Bhaji.jpeg\n",
      "✔️ Processed: Club Kachori with Jalebi.jpeg\n",
      "✔️ Processed: Club Kachori.jpeg\n",
      "✔️ Processed: Extra Loochi.jpeg\n",
      "✔️ Processed: Extra Pav.jpeg\n",
      "✔️ Processed: Extra Roti.jpeg\n",
      "✔️ Processed: Filter Coffee.jpeg\n",
      "✔️ Processed: Ghee Khichdi.jpeg\n",
      "✔️ Processed: Ghee Podi Masala Dosa.jpeg\n",
      "✔️ Processed: Ghee Podi Thatte Idli.jpeg\n",
      "✔️ Processed: Jalebi.jpeg\n",
      "✔️ Processed: Lassi.jpeg\n",
      "✔️ Processed: Loochi Aloo Dum.jpeg\n",
      "✔️ Processed: Moong Dal ka Halwa.jpeg\n",
      "✔️ Processed: Open Butter Masala Dosa.jpeg\n",
      "✔️ Processed: Paneer Paratha.jpeg\n",
      "✔️ Processed: Pizza Dosa.jpeg\n",
      "✔️ Processed: Upma.jpeg\n",
      "✅ All images cropped to 5:4 and resized to 600x480 in 'result' folder.\n"
     ]
    }
   ],
   "source": [
    "from PIL import Image\n",
    "import os\n",
    "\n",
    "# Input and output folders\n",
    "input_folder = \"Dishayein\"\n",
    "output_folder = \"result\"\n",
    "os.makedirs(output_folder, exist_ok=True)\n",
    "\n",
    "# Target aspect ratio (5:4) and final size (600x480)\n",
    "target_ratio = 5 / 4\n",
    "final_size = (600, 480)\n",
    "\n",
    "for filename in os.listdir(input_folder):\n",
    "    if filename.lower().endswith((\".jpg\", \".jpeg\", \".png\", \".bmp\", \".webp\")):\n",
    "        img_path = os.path.join(input_folder, filename)\n",
    "\n",
    "        try:\n",
    "            img = Image.open(img_path)\n",
    "        except Exception as e:\n",
    "            print(f\"❌ Failed to open {filename}: {e}\")\n",
    "            continue\n",
    "\n",
    "        width, height = img.size\n",
    "        current_ratio = width / height\n",
    "\n",
    "        # Crop to 5:4 aspect ratio\n",
    "        if current_ratio > target_ratio:\n",
    "            # Too wide: crop width\n",
    "            new_width = int(height * target_ratio)\n",
    "            left = (width - new_width) // 2\n",
    "            box = (left, 0, left + new_width, height)\n",
    "        else:\n",
    "            # Too tall: crop height\n",
    "            new_height = int(width / target_ratio)\n",
    "            top = (height - new_height) // 2\n",
    "            box = (0, top, width, top + new_height)\n",
    "\n",
    "        cropped_img = img.crop(box)\n",
    "\n",
    "        # Resize to 600x480 using modern Pillow enum\n",
    "        resized_img = cropped_img.resize(final_size, Image.Resampling.LANCZOS)\n",
    "\n",
    "        # Save the result\n",
    "        output_path = os.path.join(output_folder, filename)\n",
    "        resized_img.save(output_path)\n",
    "\n",
    "        print(f\"✔️ Processed: {filename}\")\n",
    "\n",
    "print(\"✅ All images cropped to 5:4 and resized to 600x480 in 'result' folder.\")\n"
   ]
  }
 ],
 "metadata": {
  "kernelspec": {
   "display_name": "myenv",
   "language": "python",
   "name": "python3"
  },
  "language_info": {
   "codemirror_mode": {
    "name": "ipython",
    "version": 3
   },
   "file_extension": ".py",
   "mimetype": "text/x-python",
   "name": "python",
   "nbconvert_exporter": "python",
   "pygments_lexer": "ipython3",
   "version": "3.11.13"
  }
 },
 "nbformat": 4,
 "nbformat_minor": 5
}
